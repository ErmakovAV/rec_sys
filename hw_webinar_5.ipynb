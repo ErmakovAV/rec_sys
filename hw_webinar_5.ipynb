{
  "nbformat": 4,
  "nbformat_minor": 0,
  "metadata": {
    "colab": {
      "provenance": [],
      "mount_file_id": "1iFL2e-W2OGORCkXtAO3HLwx5nNk9TlGW",
      "authorship_tag": "ABX9TyNxRb+eA6jK+WeOhxv1UAtE",
      "include_colab_link": true
    },
    "kernelspec": {
      "name": "python3",
      "display_name": "Python 3"
    },
    "language_info": {
      "name": "python"
    }
  },
  "cells": [
    {
      "cell_type": "markdown",
      "metadata": {
        "id": "view-in-github",
        "colab_type": "text"
      },
      "source": [
        "<a href=\"https://colab.research.google.com/github/ErmakovAV/rec_sys/blob/main/hw_webinar_5.ipynb\" target=\"_parent\"><img src=\"https://colab.research.google.com/assets/colab-badge.svg\" alt=\"Open In Colab\"/></a>"
      ]
    },
    {
      "cell_type": "markdown",
      "source": [
        "**Домашнее задание**\n",
        "\n",
        "1. Изучите структуру модуля src\n",
        "\n",
        "2. Перенесите функции prefilter_items и postfilter_items в модуль src.utils.py\n",
        "\n",
        "3. Реализуйте функции get_similar_items_recommendation, get_similar_users_recommendation (они разбирались на вебинаре) и переместите в src.utils.py.\n",
        "postfilter можно пока оставить пустой (или как-то бороться с товаром 999999) - на Ваше усмотрение.\n",
        "В prefilter нужно реализовать закомментированные ограничения. \n",
        "\n",
        "4. Создайте модуль src.recommenders.py. Напишите код для класса ниже и положите его в src.recommenders.py\n",
        "get_similar_items_recommendation и get_similar_users_recommendation - реализуйте их, как делалось на вебинаре \n",
        "\n",
        "5. Проверьте, что все модули корректно импортируются \n",
        "\n",
        "6. Если вы еще не прочитали статью о рекомендательных системах и поиске в hh.ru, то обязательно прочитайте\n",
        "\n",
        "**Внимание!** модуль для вашего удобства - дополняйте его теми функциями, которые Вам пригодятся.\n",
        "Формальное задание только на prefiletr_items"
      ],
      "metadata": {
        "id": "ChsVnnBkctbF"
      }
    },
    {
      "cell_type": "code",
      "source": [
        "!pip install implicit"
      ],
      "metadata": {
        "colab": {
          "base_uri": "https://localhost:8080/"
        },
        "id": "B1RNmwh_jTHg",
        "outputId": "19c4af1f-8fa7-4729-f696-b1339f67e0ce"
      },
      "execution_count": null,
      "outputs": [
        {
          "output_type": "stream",
          "name": "stdout",
          "text": [
            "Looking in indexes: https://pypi.org/simple, https://us-python.pkg.dev/colab-wheels/public/simple/\n",
            "Requirement already satisfied: implicit in /usr/local/lib/python3.9/dist-packages (0.6.2)\n",
            "Requirement already satisfied: scipy>=0.16 in /usr/local/lib/python3.9/dist-packages (from implicit) (1.10.1)\n",
            "Requirement already satisfied: numpy in /usr/local/lib/python3.9/dist-packages (from implicit) (1.22.4)\n",
            "Requirement already satisfied: tqdm>=4.27 in /usr/local/lib/python3.9/dist-packages (from implicit) (4.65.0)\n"
          ]
        }
      ]
    },
    {
      "cell_type": "code",
      "source": [
        "import implicit"
      ],
      "metadata": {
        "id": "AT6lY9lRjdnp"
      },
      "execution_count": null,
      "outputs": []
    },
    {
      "cell_type": "code",
      "source": [
        "import metrics\n",
        "dir(metrics)"
      ],
      "metadata": {
        "colab": {
          "base_uri": "https://localhost:8080/"
        },
        "id": "pdcpD_NF2djX",
        "outputId": "f9832e5c-7d59-4e97-c4cc-5a63703da676"
      },
      "execution_count": null,
      "outputs": [
        {
          "output_type": "execute_result",
          "data": {
            "text/plain": [
              "['__builtins__',\n",
              " '__cached__',\n",
              " '__doc__',\n",
              " '__file__',\n",
              " '__loader__',\n",
              " '__name__',\n",
              " '__package__',\n",
              " '__spec__',\n",
              " 'ap_k',\n",
              " 'hit_rate',\n",
              " 'hit_rate_at_k',\n",
              " 'money_precision_at_k',\n",
              " 'np',\n",
              " 'precision',\n",
              " 'precision_at_k',\n",
              " 'recall',\n",
              " 'recall_at_k',\n",
              " 'reciprocal_rank']"
            ]
          },
          "metadata": {},
          "execution_count": 18
        }
      ]
    },
    {
      "cell_type": "code",
      "execution_count": null,
      "metadata": {
        "id": "y5bYy04kcR3z"
      },
      "outputs": [],
      "source": [
        "def prefilter_items(data_train):\n",
        "    # Оставим только 5000 самых популярных товаров\n",
        "    popularity = data_train.groupby('item_id')['quantity'].sum().reset_index()\n",
        "    popularity.rename(columns={'quantity': 'n_sold'}, inplace=True)\n",
        "    top_5000 = popularity.sort_values('n_sold', ascending=False).head(5000).item_id.tolist()\n",
        "    #добавим, чтобы не потерять юзеров\n",
        "    data_train.loc[~data_train['item_id'].isin(top_5000), 'item_id'] = 999999 \n",
        "    \n",
        "    \n",
        "    \n",
        "    # Уберем самые популярные \n",
        "    \n",
        "    # Уберем самые непопулряные \n",
        "    \n",
        "    # Уберем товары, которые не продавались за последние 12 месяцев\n",
        "    \n",
        "    # Уберем не интересные для рекоммендаций категории (department)\n",
        "    \n",
        "    # Уберем слишком дешевые товары (на них не заработаем). 1 покупка из рассылок стоит 60 руб. \n",
        "    \n",
        "    # Уберем слишком дорогие товары\n",
        "    \n",
        "\n",
        "    return data_train\n",
        "\n",
        "def postfilter_items():\n",
        "    pass"
      ]
    },
    {
      "cell_type": "code",
      "source": [
        "import pandas as pd\n",
        "import numpy as np\n",
        "\n",
        "# Для работы с матрицами\n",
        "from scipy.sparse import csr_matrix\n",
        "\n",
        "# Матричная факторизация\n",
        "from implicit.als import AlternatingLeastSquares\n",
        "from implicit.nearest_neighbours import ItemItemRecommender  # нужен для одного трюка\n",
        "from implicit.nearest_neighbours import bm25_weight, tfidf_weight\n",
        "\n",
        "\n",
        "class MainRecommender:\n",
        "    \"\"\"Рекоммендации, которые можно получить из ALS\n",
        "    \n",
        "    Input\n",
        "    -----\n",
        "    user_item_matrix: pd.DataFrame\n",
        "        Матрица взаимодействий user-item\n",
        "    \"\"\"\n",
        "    \n",
        "    def __init__(self, data, weighting=True):\n",
        "        \n",
        "        # Топ покупок каждого юзера\n",
        "        self.top_purchases = data.groupby(['user_id', 'item_id'])['quantity'].count().reset_index()\n",
        "        self.top_purchases.sort_values('quantity', ascending=False, inplace=True)\n",
        "        self.top_purchases = self.top_purchases[self.top_purchases['item_id'] != 999999]\n",
        "\n",
        "        # Топ покупок по всему датасету\n",
        "        self.overall_top_purchases = data.groupby('item_id')['quantity'].count().reset_index()\n",
        "        self.overall_top_purchases.sort_values('quantity', ascending=False, inplace=True)\n",
        "        self.overall_top_purchases = self.overall_top_purchases[self.overall_top_purchases['item_id'] != 999999]\n",
        "        self.overall_top_purchases = self.overall_top_purchases.item_id.tolist()\n",
        "\n",
        "        self.user_item_matrix = self._prepare_matrix(data)  # pd.DataFrame\n",
        "        self.id_to_itemid, self.id_to_userid, \\\n",
        "            self.itemid_to_id, self.userid_to_id = self._prepare_dicts(self.user_item_matrix)\n",
        "\n",
        "        if weighting:\n",
        "            self.user_item_matrix = bm25_weight(self.user_item_matrix.T).T\n",
        "\n",
        "        self.model = self.fit(self.user_item_matrix)\n",
        "        self.own_recommender = self.fit_own_recommender(self.user_item_matrix)\n",
        "\n",
        "\n",
        "    @staticmethod\n",
        "    def _prepare_matrix(data):\n",
        "        \"\"\"Готовит user-item матрицу\"\"\"\n",
        "        user_item_matrix = pd.pivot_table(data,\n",
        "                                          index='user_id', columns='item_id',\n",
        "                                          values='quantity',  # Можно пробовать другие варианты\n",
        "                                          aggfunc='count',\n",
        "                                          fill_value=0\n",
        "                                          )\n",
        "        user_item_matrix = user_item_matrix.astype(float)  # необходимый тип матрицы для implicit\n",
        "        return user_item_matrix\n",
        "    \n",
        "    @staticmethod\n",
        "    def prepare_dicts(user_item_matrix):\n",
        "        \"\"\"Подготавливает вспомогательные словари\"\"\"\n",
        "        \n",
        "        userids = user_item_matrix.index.values\n",
        "        itemids = user_item_matrix.columns.values\n",
        "\n",
        "        matrix_userids = np.arange(len(userids))\n",
        "        matrix_itemids = np.arange(len(itemids))\n",
        "\n",
        "        id_to_itemid = dict(zip(matrix_itemids, itemids))\n",
        "        id_to_userid = dict(zip(matrix_userids, userids))\n",
        "\n",
        "        itemid_to_id = dict(zip(itemids, matrix_itemids))\n",
        "        userid_to_id = dict(zip(userids, matrix_userids))\n",
        "        \n",
        "        return id_to_itemid, id_to_userid, itemid_to_id, userid_to_id\n",
        "     \n",
        "    @staticmethod\n",
        "    def fit_own_recommender(user_item_matrix):\n",
        "        \"\"\"Обучает модель, которая рекомендует товары, среди товаров, купленных юзером\"\"\"\n",
        "    \n",
        "        own_recommender = ItemItemRecommender(K=1, num_threads=4)\n",
        "        own_recommender.fit(csr_matrix(user_item_matrix).T.tocsr())\n",
        "        \n",
        "        return own_recommender\n",
        "\n",
        "    @staticmethod\n",
        "    def fit(user_item_matrix, n_factors=20, regularization=0.001, iterations=15, num_threads=4):\n",
        "        \"\"\"Обучает ALS\"\"\"\n",
        "        \n",
        "        model = AlternatingLeastSquares(factors=factors, \n",
        "                                             regularization=regularization,\n",
        "                                             iterations=iterations,  \n",
        "                                             num_threads=num_threads)\n",
        "        model.fit(csr_matrix(self.user_item_matrix).T.tocsr())\n",
        "        \n",
        "        return model\n",
        "\n",
        "    \n",
        "    def get_similar_items_recommendation(self, user, N=5):\n",
        "        \"\"\"Рекомендуем товары, похожие на топ-N купленных юзером товаров\"\"\"\n",
        "        top_users_purchases = self.top_purchases[self.top_purchases['user_id'] == user].head(N)\n",
        "\n",
        "        res = top_users_purchases['item_id'].apply(lambda x: self._get_similar_item(x)).tolist()\n",
        "        res = self._extend_with_top_popular(res, N=N)\n",
        "\n",
        "        assert len(res) == N, 'Количество рекомендаций != {}'.format(N)\n",
        "        return res\n",
        "    \n",
        "\n",
        "    def get_similar_users_recommendation(self, user, N=5):\n",
        "        \"\"\"Рекомендуем топ-N товаров, среди купленных похожими юзерами\"\"\"\n",
        "        res = []\n",
        "        \n",
        "        # Находим топ-N похожих пользователей\n",
        "        similar_users = self.model.similar_users(self.userid_to_id[user], N=N+1)\n",
        "        similar_users = [rec[0] for rec in similar_users]\n",
        "        similar_users = similar_users[1:]   # удалим юзера из запроса\n",
        "\n",
        "        #!!! Здесь была ошибка!\n",
        "        for user in similar_users:\n",
        "            userid = self.id_to_userid[user] #own recommender works with user_ids\n",
        "            res.extend(self.get_own_recommendations(userid, N=1))\n",
        "\n",
        "        res = self._extend_with_top_popular(res, N=N)\n",
        "\n",
        "        assert len(res) == N, 'Количество рекомендаций != {}'.format(N)\n",
        "        return res"
      ],
      "metadata": {
        "id": "I-WfO9AWe14M"
      },
      "execution_count": null,
      "outputs": []
    },
    {
      "cell_type": "code",
      "source": [
        "from src.metrics import precision_at_k, recall_at_k\n",
        "from src.utils import prefilter_items\n",
        "from src.recommenders import MainRecommender"
      ],
      "metadata": {
        "id": "b0Id6qkZfU-Y"
      },
      "execution_count": null,
      "outputs": []
    }
  ]
}