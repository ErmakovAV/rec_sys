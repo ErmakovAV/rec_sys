{
  "nbformat": 4,
  "nbformat_minor": 0,
  "metadata": {
    "kernelspec": {
      "display_name": "Python 3",
      "language": "python",
      "name": "python3"
    },
    "language_info": {
      "codemirror_mode": {
        "name": "ipython",
        "version": 3
      },
      "file_extension": ".py",
      "mimetype": "text/x-python",
      "name": "python",
      "nbconvert_exporter": "python",
      "pygments_lexer": "ipython3",
      "version": "3.7.3"
    },
    "colab": {
      "provenance": [],
      "include_colab_link": true
    }
  },
  "cells": [
    {
      "cell_type": "markdown",
      "metadata": {
        "id": "view-in-github",
        "colab_type": "text"
      },
      "source": [
        "<a href=\"https://colab.research.google.com/github/ErmakovAV/rec_sys/blob/main/hw_webinar_1.ipynb\" target=\"_parent\"><img src=\"https://colab.research.google.com/assets/colab-badge.svg\" alt=\"Open In Colab\"/></a>"
      ]
    },
    {
      "cell_type": "markdown",
      "metadata": {
        "id": "89mFQmjdo1gZ"
      },
      "source": [
        "# Вебинар 1. Введение, примеры задач, бизнес- и ML-метрики "
      ]
    },
    {
      "cell_type": "markdown",
      "metadata": {
        "id": "s26JxhrGo1ge"
      },
      "source": [
        "![about_me.png](attachment:about_me.png)"
      ]
    },
    {
      "cell_type": "markdown",
      "metadata": {
        "id": "MJZwT8cSo1gi"
      },
      "source": [
        "-----"
      ]
    },
    {
      "cell_type": "markdown",
      "metadata": {
        "id": "R0sRGFuXo1gk"
      },
      "source": [
        "# 1. Введение и примеры задач"
      ]
    },
    {
      "cell_type": "markdown",
      "metadata": {
        "id": "z0ZCu4-Zo1gm"
      },
      "source": [
        "![recsys_everywhere.png](attachment:recsys_everywhere.png)"
      ]
    },
    {
      "cell_type": "code",
      "metadata": {
        "id": "9qZt-QYrNqiM"
      },
      "source": [],
      "execution_count": null,
      "outputs": []
    },
    {
      "cell_type": "markdown",
      "metadata": {
        "id": "Wvs4ACKHo1go"
      },
      "source": [
        "----"
      ]
    },
    {
      "cell_type": "markdown",
      "metadata": {
        "id": "jGZbdDSto1gq"
      },
      "source": [
        "![skills.png](attachment:skills.png)"
      ]
    },
    {
      "cell_type": "markdown",
      "metadata": {
        "id": "p4hQIpZ6o1gr"
      },
      "source": [
        "---"
      ]
    },
    {
      "cell_type": "markdown",
      "metadata": {
        "id": "EC6MY2VHo1gs"
      },
      "source": [
        "##  Постановка задачи\n",
        "\n",
        "*Задача рекомендаций* - предложить пользователю товары, которые ему \"понравятся\"\n",
        "\n",
        "Компоненты:\n",
        "    - Пользователи (users)\n",
        "    - Товары (items)\n",
        "    - Взаимодействия (interactions) - по ним понимаем, что товар \"понравился\""
      ]
    },
    {
      "cell_type": "markdown",
      "metadata": {
        "id": "9vjcDtI4o1gt"
      },
      "source": [
        "---"
      ]
    },
    {
      "cell_type": "markdown",
      "metadata": {
        "id": "F4lSmxSIo1g4"
      },
      "source": [
        "## Пользователи VS Товары\n",
        "\n",
        "![ex_user_items.png](attachment:ex_user_items.png)\n"
      ]
    },
    {
      "cell_type": "markdown",
      "metadata": {
        "id": "xQCfDa7Ro1g6"
      },
      "source": [
        "**Кейс**: определить в каждой ситуации, что является пользователем, а что - товаром\n",
        "    \n",
        "    1. На сайте Кинопоиска порекомендовать интересные фильмы\n",
        "    2. На сайте hh.ru подобрать лучшие вакансии для соискателя вакансий\n",
        "    3. На сайте hh.ru найти похожие вакансии на ту, которую сейчас просматривает пользователь (\"вам также может понравиться\")\n",
        "    3. На сайте hh.ru подобрать лучших кандидатов для работодателя\n",
        "    \n",
        "*Пример ответа в чате:*\n",
        "    1. Пользователь (П) - фильм, Товар (T) - фильм\n",
        "    2. П - работодатель, Т - соискатель вакансий"
      ]
    },
    {
      "cell_type": "markdown",
      "metadata": {
        "id": "6XvwnlkTo1g7"
      },
      "source": [
        "---"
      ]
    },
    {
      "cell_type": "markdown",
      "metadata": {
        "id": "hTptz8fIo1g8"
      },
      "source": [
        "## Взаимодействия --> \"понравился товар\"\n",
        "\n",
        "![ex_interactions.png](attachment:ex_interactions.png)\n"
      ]
    },
    {
      "cell_type": "markdown",
      "metadata": {
        "id": "trQ6RNEto1g9"
      },
      "source": [
        "---"
      ]
    },
    {
      "cell_type": "markdown",
      "metadata": {
        "id": "gyYgtrV3o1g-"
      },
      "source": [
        "## В чем отличие от классификации?"
      ]
    },
    {
      "cell_type": "code",
      "metadata": {
        "id": "MDr2G6YIo1g_"
      },
      "source": [
        "import pandas as pd\n",
        "import numpy as np"
      ],
      "execution_count": null,
      "outputs": []
    },
    {
      "cell_type": "code",
      "metadata": {
        "id": "5NPXqJeco1hH",
        "outputId": "78decf8f-1f77-4d36-962c-a6cf9b6af002",
        "colab": {
          "base_uri": "https://localhost:8080/",
          "height": 143
        }
      },
      "source": [
        "pd.DataFrame([['Иван', 'Хлеб Бородинский', 1],\n",
        "             ['Иван', 'Хлеб Белый', 0],\n",
        "             ['Василий', 'Йогурт Epica', 1]], columns=['user', 'item', 'purchase_fact'])"
      ],
      "execution_count": null,
      "outputs": [
        {
          "output_type": "execute_result",
          "data": {
            "text/plain": [
              "      user              item  purchase_fact\n",
              "0     Иван  Хлеб Бородинский              1\n",
              "1     Иван        Хлеб Белый              0\n",
              "2  Василий      Йогурт Epica              1"
            ],
            "text/html": [
              "\n",
              "  <div id=\"df-694097df-f23b-48e9-93aa-ba260aeb56a1\">\n",
              "    <div class=\"colab-df-container\">\n",
              "      <div>\n",
              "<style scoped>\n",
              "    .dataframe tbody tr th:only-of-type {\n",
              "        vertical-align: middle;\n",
              "    }\n",
              "\n",
              "    .dataframe tbody tr th {\n",
              "        vertical-align: top;\n",
              "    }\n",
              "\n",
              "    .dataframe thead th {\n",
              "        text-align: right;\n",
              "    }\n",
              "</style>\n",
              "<table border=\"1\" class=\"dataframe\">\n",
              "  <thead>\n",
              "    <tr style=\"text-align: right;\">\n",
              "      <th></th>\n",
              "      <th>user</th>\n",
              "      <th>item</th>\n",
              "      <th>purchase_fact</th>\n",
              "    </tr>\n",
              "  </thead>\n",
              "  <tbody>\n",
              "    <tr>\n",
              "      <th>0</th>\n",
              "      <td>Иван</td>\n",
              "      <td>Хлеб Бородинский</td>\n",
              "      <td>1</td>\n",
              "    </tr>\n",
              "    <tr>\n",
              "      <th>1</th>\n",
              "      <td>Иван</td>\n",
              "      <td>Хлеб Белый</td>\n",
              "      <td>0</td>\n",
              "    </tr>\n",
              "    <tr>\n",
              "      <th>2</th>\n",
              "      <td>Василий</td>\n",
              "      <td>Йогурт Epica</td>\n",
              "      <td>1</td>\n",
              "    </tr>\n",
              "  </tbody>\n",
              "</table>\n",
              "</div>\n",
              "      <button class=\"colab-df-convert\" onclick=\"convertToInteractive('df-694097df-f23b-48e9-93aa-ba260aeb56a1')\"\n",
              "              title=\"Convert this dataframe to an interactive table.\"\n",
              "              style=\"display:none;\">\n",
              "        \n",
              "  <svg xmlns=\"http://www.w3.org/2000/svg\" height=\"24px\"viewBox=\"0 0 24 24\"\n",
              "       width=\"24px\">\n",
              "    <path d=\"M0 0h24v24H0V0z\" fill=\"none\"/>\n",
              "    <path d=\"M18.56 5.44l.94 2.06.94-2.06 2.06-.94-2.06-.94-.94-2.06-.94 2.06-2.06.94zm-11 1L8.5 8.5l.94-2.06 2.06-.94-2.06-.94L8.5 2.5l-.94 2.06-2.06.94zm10 10l.94 2.06.94-2.06 2.06-.94-2.06-.94-.94-2.06-.94 2.06-2.06.94z\"/><path d=\"M17.41 7.96l-1.37-1.37c-.4-.4-.92-.59-1.43-.59-.52 0-1.04.2-1.43.59L10.3 9.45l-7.72 7.72c-.78.78-.78 2.05 0 2.83L4 21.41c.39.39.9.59 1.41.59.51 0 1.02-.2 1.41-.59l7.78-7.78 2.81-2.81c.8-.78.8-2.07 0-2.86zM5.41 20L4 18.59l7.72-7.72 1.47 1.35L5.41 20z\"/>\n",
              "  </svg>\n",
              "      </button>\n",
              "      \n",
              "  <style>\n",
              "    .colab-df-container {\n",
              "      display:flex;\n",
              "      flex-wrap:wrap;\n",
              "      gap: 12px;\n",
              "    }\n",
              "\n",
              "    .colab-df-convert {\n",
              "      background-color: #E8F0FE;\n",
              "      border: none;\n",
              "      border-radius: 50%;\n",
              "      cursor: pointer;\n",
              "      display: none;\n",
              "      fill: #1967D2;\n",
              "      height: 32px;\n",
              "      padding: 0 0 0 0;\n",
              "      width: 32px;\n",
              "    }\n",
              "\n",
              "    .colab-df-convert:hover {\n",
              "      background-color: #E2EBFA;\n",
              "      box-shadow: 0px 1px 2px rgba(60, 64, 67, 0.3), 0px 1px 3px 1px rgba(60, 64, 67, 0.15);\n",
              "      fill: #174EA6;\n",
              "    }\n",
              "\n",
              "    [theme=dark] .colab-df-convert {\n",
              "      background-color: #3B4455;\n",
              "      fill: #D2E3FC;\n",
              "    }\n",
              "\n",
              "    [theme=dark] .colab-df-convert:hover {\n",
              "      background-color: #434B5C;\n",
              "      box-shadow: 0px 1px 3px 1px rgba(0, 0, 0, 0.15);\n",
              "      filter: drop-shadow(0px 1px 2px rgba(0, 0, 0, 0.3));\n",
              "      fill: #FFFFFF;\n",
              "    }\n",
              "  </style>\n",
              "\n",
              "      <script>\n",
              "        const buttonEl =\n",
              "          document.querySelector('#df-694097df-f23b-48e9-93aa-ba260aeb56a1 button.colab-df-convert');\n",
              "        buttonEl.style.display =\n",
              "          google.colab.kernel.accessAllowed ? 'block' : 'none';\n",
              "\n",
              "        async function convertToInteractive(key) {\n",
              "          const element = document.querySelector('#df-694097df-f23b-48e9-93aa-ba260aeb56a1');\n",
              "          const dataTable =\n",
              "            await google.colab.kernel.invokeFunction('convertToInteractive',\n",
              "                                                     [key], {});\n",
              "          if (!dataTable) return;\n",
              "\n",
              "          const docLinkHtml = 'Like what you see? Visit the ' +\n",
              "            '<a target=\"_blank\" href=https://colab.research.google.com/notebooks/data_table.ipynb>data table notebook</a>'\n",
              "            + ' to learn more about interactive tables.';\n",
              "          element.innerHTML = '';\n",
              "          dataTable['output_type'] = 'display_data';\n",
              "          await google.colab.output.renderOutput(dataTable, element);\n",
              "          const docLink = document.createElement('div');\n",
              "          docLink.innerHTML = docLinkHtml;\n",
              "          element.appendChild(docLink);\n",
              "        }\n",
              "      </script>\n",
              "    </div>\n",
              "  </div>\n",
              "  "
            ]
          },
          "metadata": {},
          "execution_count": 3
        }
      ]
    },
    {
      "cell_type": "markdown",
      "metadata": {
        "id": "qpT9cc8Ao1hP"
      },
      "source": [
        "Постойте, ведь можно добавить фичи на user (средний чек, кол-во покупок в категориях и т.д), \n",
        "на item (цена, кол-во продаж в неделю и т.l), и решать задачу классификации. В чем отличие RecSys от классификации?\n",
        "\n",
        " - Много предсказаний для 1 user (extreme classification)\n",
        " - Гораздо больший объем данных: 100K users, 10K items --> 1B предсказаний\n",
        " - Большинство товаров user никогда не видел --> Не взаимодействовал --> 0 не значит \"не понравился\"\n",
        " - Нет явного таргета. Не понятно, что значит \"(не) понравился\"\n",
        " - Feedback loop\n",
        " - Иногдаь важен порядок рекомендаций"
      ]
    },
    {
      "cell_type": "code",
      "metadata": {
        "id": "PI5Vw8z9o1hQ",
        "outputId": "6eebbafd-b576-4c4f-fce0-b0ba3446b1a4",
        "colab": {
          "base_uri": "https://localhost:8080/",
          "height": 237
        }
      },
      "source": [
        "pd.DataFrame([['Иван', 'Хлеб Бородинский', 1],\n",
        "              ['Иван', 'Хлеб Белый', 0],\n",
        "              ['Иван', 'Йогурт Epica', \"?\"],\n",
        "              ['Василий', 'Хлеб Бородинский', \"?\"],\n",
        "              ['Василий', 'Хлеб Белый', \"?\"],\n",
        "              ['Василий', 'Йогурт Epica', 1]], columns=['user', 'item', 'purchase_fact'])"
      ],
      "execution_count": null,
      "outputs": [
        {
          "output_type": "execute_result",
          "data": {
            "text/plain": [
              "      user              item purchase_fact\n",
              "0     Иван  Хлеб Бородинский             1\n",
              "1     Иван        Хлеб Белый             0\n",
              "2     Иван      Йогурт Epica             ?\n",
              "3  Василий  Хлеб Бородинский             ?\n",
              "4  Василий        Хлеб Белый             ?\n",
              "5  Василий      Йогурт Epica             1"
            ],
            "text/html": [
              "\n",
              "  <div id=\"df-97d0a152-3dfb-4111-912c-2cd302a9abc3\">\n",
              "    <div class=\"colab-df-container\">\n",
              "      <div>\n",
              "<style scoped>\n",
              "    .dataframe tbody tr th:only-of-type {\n",
              "        vertical-align: middle;\n",
              "    }\n",
              "\n",
              "    .dataframe tbody tr th {\n",
              "        vertical-align: top;\n",
              "    }\n",
              "\n",
              "    .dataframe thead th {\n",
              "        text-align: right;\n",
              "    }\n",
              "</style>\n",
              "<table border=\"1\" class=\"dataframe\">\n",
              "  <thead>\n",
              "    <tr style=\"text-align: right;\">\n",
              "      <th></th>\n",
              "      <th>user</th>\n",
              "      <th>item</th>\n",
              "      <th>purchase_fact</th>\n",
              "    </tr>\n",
              "  </thead>\n",
              "  <tbody>\n",
              "    <tr>\n",
              "      <th>0</th>\n",
              "      <td>Иван</td>\n",
              "      <td>Хлеб Бородинский</td>\n",
              "      <td>1</td>\n",
              "    </tr>\n",
              "    <tr>\n",
              "      <th>1</th>\n",
              "      <td>Иван</td>\n",
              "      <td>Хлеб Белый</td>\n",
              "      <td>0</td>\n",
              "    </tr>\n",
              "    <tr>\n",
              "      <th>2</th>\n",
              "      <td>Иван</td>\n",
              "      <td>Йогурт Epica</td>\n",
              "      <td>?</td>\n",
              "    </tr>\n",
              "    <tr>\n",
              "      <th>3</th>\n",
              "      <td>Василий</td>\n",
              "      <td>Хлеб Бородинский</td>\n",
              "      <td>?</td>\n",
              "    </tr>\n",
              "    <tr>\n",
              "      <th>4</th>\n",
              "      <td>Василий</td>\n",
              "      <td>Хлеб Белый</td>\n",
              "      <td>?</td>\n",
              "    </tr>\n",
              "    <tr>\n",
              "      <th>5</th>\n",
              "      <td>Василий</td>\n",
              "      <td>Йогурт Epica</td>\n",
              "      <td>1</td>\n",
              "    </tr>\n",
              "  </tbody>\n",
              "</table>\n",
              "</div>\n",
              "      <button class=\"colab-df-convert\" onclick=\"convertToInteractive('df-97d0a152-3dfb-4111-912c-2cd302a9abc3')\"\n",
              "              title=\"Convert this dataframe to an interactive table.\"\n",
              "              style=\"display:none;\">\n",
              "        \n",
              "  <svg xmlns=\"http://www.w3.org/2000/svg\" height=\"24px\"viewBox=\"0 0 24 24\"\n",
              "       width=\"24px\">\n",
              "    <path d=\"M0 0h24v24H0V0z\" fill=\"none\"/>\n",
              "    <path d=\"M18.56 5.44l.94 2.06.94-2.06 2.06-.94-2.06-.94-.94-2.06-.94 2.06-2.06.94zm-11 1L8.5 8.5l.94-2.06 2.06-.94-2.06-.94L8.5 2.5l-.94 2.06-2.06.94zm10 10l.94 2.06.94-2.06 2.06-.94-2.06-.94-.94-2.06-.94 2.06-2.06.94z\"/><path d=\"M17.41 7.96l-1.37-1.37c-.4-.4-.92-.59-1.43-.59-.52 0-1.04.2-1.43.59L10.3 9.45l-7.72 7.72c-.78.78-.78 2.05 0 2.83L4 21.41c.39.39.9.59 1.41.59.51 0 1.02-.2 1.41-.59l7.78-7.78 2.81-2.81c.8-.78.8-2.07 0-2.86zM5.41 20L4 18.59l7.72-7.72 1.47 1.35L5.41 20z\"/>\n",
              "  </svg>\n",
              "      </button>\n",
              "      \n",
              "  <style>\n",
              "    .colab-df-container {\n",
              "      display:flex;\n",
              "      flex-wrap:wrap;\n",
              "      gap: 12px;\n",
              "    }\n",
              "\n",
              "    .colab-df-convert {\n",
              "      background-color: #E8F0FE;\n",
              "      border: none;\n",
              "      border-radius: 50%;\n",
              "      cursor: pointer;\n",
              "      display: none;\n",
              "      fill: #1967D2;\n",
              "      height: 32px;\n",
              "      padding: 0 0 0 0;\n",
              "      width: 32px;\n",
              "    }\n",
              "\n",
              "    .colab-df-convert:hover {\n",
              "      background-color: #E2EBFA;\n",
              "      box-shadow: 0px 1px 2px rgba(60, 64, 67, 0.3), 0px 1px 3px 1px rgba(60, 64, 67, 0.15);\n",
              "      fill: #174EA6;\n",
              "    }\n",
              "\n",
              "    [theme=dark] .colab-df-convert {\n",
              "      background-color: #3B4455;\n",
              "      fill: #D2E3FC;\n",
              "    }\n",
              "\n",
              "    [theme=dark] .colab-df-convert:hover {\n",
              "      background-color: #434B5C;\n",
              "      box-shadow: 0px 1px 3px 1px rgba(0, 0, 0, 0.15);\n",
              "      filter: drop-shadow(0px 1px 2px rgba(0, 0, 0, 0.3));\n",
              "      fill: #FFFFFF;\n",
              "    }\n",
              "  </style>\n",
              "\n",
              "      <script>\n",
              "        const buttonEl =\n",
              "          document.querySelector('#df-97d0a152-3dfb-4111-912c-2cd302a9abc3 button.colab-df-convert');\n",
              "        buttonEl.style.display =\n",
              "          google.colab.kernel.accessAllowed ? 'block' : 'none';\n",
              "\n",
              "        async function convertToInteractive(key) {\n",
              "          const element = document.querySelector('#df-97d0a152-3dfb-4111-912c-2cd302a9abc3');\n",
              "          const dataTable =\n",
              "            await google.colab.kernel.invokeFunction('convertToInteractive',\n",
              "                                                     [key], {});\n",
              "          if (!dataTable) return;\n",
              "\n",
              "          const docLinkHtml = 'Like what you see? Visit the ' +\n",
              "            '<a target=\"_blank\" href=https://colab.research.google.com/notebooks/data_table.ipynb>data table notebook</a>'\n",
              "            + ' to learn more about interactive tables.';\n",
              "          element.innerHTML = '';\n",
              "          dataTable['output_type'] = 'display_data';\n",
              "          await google.colab.output.renderOutput(dataTable, element);\n",
              "          const docLink = document.createElement('div');\n",
              "          docLink.innerHTML = docLinkHtml;\n",
              "          element.appendChild(docLink);\n",
              "        }\n",
              "      </script>\n",
              "    </div>\n",
              "  </div>\n",
              "  "
            ]
          },
          "metadata": {},
          "execution_count": 4
        }
      ]
    },
    {
      "cell_type": "markdown",
      "metadata": {
        "id": "qjBbrZqIo1hX"
      },
      "source": [
        "----"
      ]
    },
    {
      "cell_type": "markdown",
      "metadata": {
        "id": "40b-1kBbo1hY"
      },
      "source": [
        "## Основные типы задач:\n",
        "    \n",
        "**Рекомендация топ-К товаров**: Дан список товаров. Рекомендовать пользователю K товаров, которые ему понравятся\n",
        "    - e-mail рассылки (М.Видео, Hoff, Пятерочка)\n",
        "    - push-уведомления (Delivery Club, HeadHunter, Виктория)\n",
        "    - Рекомендации в отдельном окне на сайте (vk, okko)\n",
        "\n",
        "**Ранжирование товаров**: Дан список товаров. Нужно его отранжировать в порядке убывания интереса для пользователя\n",
        "    - Ранжирование каталога товаров (Wildberries, Lamoda)\n",
        "    - Ранжирование ленты (vk, Я.Дзен)\n",
        "    - Ранжирование поисковой выдачи (Яндекс, Гугл)\n",
        "    - Ранжирование \"каруселей\" товаров (Delivery Club, Я.Еда)\n",
        "    \n",
        "**Поиск похожих товаров**: Дан 1 товар. Нужно найти наиболее похожие на него товары\n",
        "    - \"Вам также может понравиться\" (Ozon, Циан)\n",
        "    - Похожим пользователям понравилось (vk)\n",
        "    - Вы можете быть знакомы (vk, facebook)\n",
        "    \n",
        "**Рекомендация дополнителдьного товара**. Дан 1 товар. Найти товары, которые покупают вместе с этим товаром\n",
        "    - С этим товаром часто покупают (Я.Маркет, Ozon, М.Видео)\n",
        "    \n",
        "   \n",
        "---\n",
        "На 7 вебинаре мы разберем рекомендательные системы из HeadHunter, Я.Дзен и vk"
      ]
    },
    {
      "cell_type": "markdown",
      "metadata": {
        "id": "4qVx3IG0o1hZ"
      },
      "source": [
        "---"
      ]
    },
    {
      "cell_type": "markdown",
      "metadata": {
        "id": "8VrZhsIbo1ha"
      },
      "source": [
        "# 2. ML-mетрики качества"
      ]
    },
    {
      "cell_type": "markdown",
      "metadata": {
        "id": "0dnPDNLYo1hc"
      },
      "source": [
        "*Хороши ли рекомендации, предлагаемые моделью?*  \n",
        "Обычно считаются для каждого юзера, затем усредняются по юзерам"
      ]
    },
    {
      "cell_type": "markdown",
      "metadata": {
        "id": "VrlXLSNao1he"
      },
      "source": [
        "Представим, что в магазине всего 10 товаров"
      ]
    },
    {
      "cell_type": "code",
      "metadata": {
        "id": "bxqcDo_vo1hh"
      },
      "source": [
        "recommended_list = [143, 156, 1134, 991, 27, 1543, 3345, 533, 11, 43] #id товаров\n",
        "bought_list = [521, 32, 143, 991]"
      ],
      "execution_count": null,
      "outputs": []
    },
    {
      "cell_type": "markdown",
      "metadata": {
        "id": "IZ6mlwcSo1hn"
      },
      "source": [
        "### 1. Hit rate\n",
        "\n",
        "Hit rate = был ли хотя бы 1 релевантный товар среди рекомендованных\n",
        "\n",
        "- Иногда применяется, когда продаются достаточно дрогие товары (например, бытовая техника) \n",
        "\n",
        "----\n",
        "Hit rate = (был ли хотя бы 1 релевантный товар среди рекомендованных)   \n",
        "\n",
        "Hit rate@k = (был ли хотя бы 1 релевантный товар среди топ-k рекомендованных)"
      ]
    },
    {
      "cell_type": "code",
      "metadata": {
        "id": "UdC9moeIo1ho"
      },
      "source": [
        "def hit_rate(recommended_list, bought_list):\n",
        "    \n",
        "    bought_list = np.array(bought_list)\n",
        "    recommended_list = np.array(recommended_list)\n",
        "    \n",
        "    flags = np.isin(bought_list, recommended_list)\n",
        "    \n",
        "    hit_rate = flags.sum()\n",
        "    #hit_rate = (flags.sum() > 0) * 1\n",
        "    \n",
        "    return hit_rate\n",
        "\n",
        "\n",
        "def hit_rate_at_k(recommended_list, bought_list, k=3):\n",
        "    \n",
        "    # your_code\n",
        "    bought_list = np.array(bought_list)\n",
        "    recommended_list = np.array(recommended_list)\n",
        "    \n",
        "    flags_at_k = np.isin(bought_list, recommended_list[:k])\n",
        "\n",
        "    hit_rate_at_k = flags_at_k.sum()\n",
        "    \n",
        "    return hit_rate_at_k"
      ],
      "execution_count": null,
      "outputs": []
    },
    {
      "cell_type": "code",
      "metadata": {
        "id": "cQXLlorio1hs",
        "outputId": "d3c694a2-4651-4cec-9108-43fdc9ee5d67",
        "colab": {
          "base_uri": "https://localhost:8080/"
        }
      },
      "source": [
        "hit_rate(recommended_list, bought_list)"
      ],
      "execution_count": null,
      "outputs": [
        {
          "output_type": "execute_result",
          "data": {
            "text/plain": [
              "2"
            ]
          },
          "metadata": {},
          "execution_count": 7
        }
      ]
    },
    {
      "cell_type": "code",
      "source": [
        "hit_rate_at_k(recommended_list, bought_list, k=3)"
      ],
      "metadata": {
        "colab": {
          "base_uri": "https://localhost:8080/"
        },
        "id": "6te9vhQsEsNS",
        "outputId": "32f4167a-273e-40f6-f4f5-65419c08c6ba"
      },
      "execution_count": null,
      "outputs": [
        {
          "output_type": "execute_result",
          "data": {
            "text/plain": [
              "1"
            ]
          },
          "metadata": {},
          "execution_count": 8
        }
      ]
    },
    {
      "cell_type": "markdown",
      "metadata": {
        "id": "iwXCUigno1hy"
      },
      "source": [
        "### 2. Precision\n",
        "\n",
        "*Precision* - доля релевантных товаров среди рекомендованных = Какой % рекомендованных товаров  юзер купил\n",
        "\n",
        "- Пожалуй, самая приближенная к бизнес-метрикам и самая популярная метрика\n",
        "\n",
        "---\n",
        "\n",
        "Precision= (# of recommended items that are relevant) / (# of recommended items)  \n",
        "\n",
        "Precision@k = (# of recommended items @k that are relevant) / (# of recommended items @k)\n",
        "\n",
        "Money Precision@k = (revenue of recommended items @k that are relevant) / (revenue of recommended items @k)  \n",
        "\n",
        "**Note:** Обычно k в precision@k достаточно невелико (5-20) и определяется из бизнес-логики. Например, 5 товаров в e-mail рассылке, 20 ответов на первой странице google и т.д"
      ]
    },
    {
      "cell_type": "markdown",
      "metadata": {
        "id": "WvSzvvmMo1hz"
      },
      "source": [
        "Красная рыба - 400 руб  \n",
        "Молоко - 60 руб  \n",
        "Хлеб = 40 руб  \n",
        "Гречка = 40 руб  \n",
        "Шоколад = 90 руб  \n",
        "\n",
        "------  \n",
        "Варенье - 240 руб  \n",
        "...  \n",
        "\n",
        "**Case 1**  \n",
        "prices_resommended = [400, 60, 40, 40 , 90]  \n",
        "flags = [1, 0, 0, 0 , 1]  \n",
        "\n",
        "$precison@5 = \\frac{1 + 0 + 0 +0 + 1}{1+1+1+1+1} = 40\\%$  \n",
        "$money precision@5 = \\frac{1*400 + 0*60 + ... + 1*90}{1*400 + 1*60 + ... + 1*90} = 77.7\\%$  \n",
        "\n",
        "  \n",
        "**Case 2**   \n",
        "prices_resommended = [400, 60, 40, 40 , 90]  \n",
        "flags = [0, 1, 0, 0 , 1]  \n",
        "\n",
        "$precison@5 = \\frac{0 + 1 + 0 +0 + 1}{1+1+1+1+1} = 40\\%$  \n",
        "$money precision@5 = \\frac{0*400 + 1*60 + ... + 1*90}{1*400 + 1*60 + ... + 1*90} = 15.8\\%$"
      ]
    },
    {
      "cell_type": "code",
      "source": [
        "prices_recommended = [400, 60, 40, 40 , 90, 10, 1030, 30, 20, 150]"
      ],
      "metadata": {
        "id": "O_p3r6tf7w7d"
      },
      "execution_count": null,
      "outputs": []
    },
    {
      "cell_type": "code",
      "metadata": {
        "id": "bDZRoYivo1h1"
      },
      "source": [
        "def precision(recommended_list, bought_list):\n",
        "    \n",
        "    bought_list = np.array(bought_list)\n",
        "    recommended_list = np.array(recommended_list)\n",
        "    \n",
        "    flags = np.isin(bought_list, recommended_list)\n",
        "    \n",
        "    precision = flags.sum() / len(recommended_list)\n",
        "    \n",
        "    return precision\n",
        "\n",
        "\n",
        "def precision_at_k(recommended_list, bought_list, k=5):\n",
        "    \n",
        "    bought_list = np.array(bought_list)\n",
        "    recommended_list = np.array(recommended_list)\n",
        "    \n",
        "    bought_list = bought_list  # Тут нет [:k] !!\n",
        "    recommended_list = recommended_list[:k]\n",
        "    \n",
        "    flags = np.isin(bought_list, recommended_list)\n",
        "    \n",
        "    precision = flags.sum() / len(recommended_list)\n",
        "    \n",
        "    \n",
        "    return precision\n",
        "\n",
        "\n",
        "def money_precision_at_k(recommended_list, bought_list, prices_recommended, k=5):\n",
        "    # your_code\n",
        "    # Лучше считать через скалярное произведение, а не цикл\n",
        "\n",
        "    recommend_list = np.array(recommended_list[:k]) \n",
        "    prices_recommended = np.array(prices_recommended[:k])\n",
        "\n",
        "    flags = np.isin(recommend_list, bought_list)\n",
        "\n",
        "    precision = np.dot(flags, prices_recommended) / prices_recommended.sum()\n",
        "    \n",
        "    return precision"
      ],
      "execution_count": null,
      "outputs": []
    },
    {
      "cell_type": "code",
      "metadata": {
        "id": "rfL2QSH1o1h5",
        "outputId": "f519d5c2-4db6-4bcc-e008-51588bf96c1d",
        "colab": {
          "base_uri": "https://localhost:8080/"
        }
      },
      "source": [
        "precision(recommended_list, bought_list)"
      ],
      "execution_count": null,
      "outputs": [
        {
          "output_type": "execute_result",
          "data": {
            "text/plain": [
              "0.2"
            ]
          },
          "metadata": {},
          "execution_count": 11
        }
      ]
    },
    {
      "cell_type": "code",
      "metadata": {
        "id": "CyA_YiPLo1h9",
        "outputId": "1f5aee9a-b4c0-49ac-bae3-eb0a125ccecb",
        "colab": {
          "base_uri": "https://localhost:8080/"
        }
      },
      "source": [
        "precision_at_k(recommended_list, bought_list, k=5)"
      ],
      "execution_count": null,
      "outputs": [
        {
          "output_type": "execute_result",
          "data": {
            "text/plain": [
              "0.4"
            ]
          },
          "metadata": {},
          "execution_count": 12
        }
      ]
    },
    {
      "cell_type": "code",
      "metadata": {
        "id": "35CJV2C7o1iB",
        "outputId": "8bce2b58-559b-440d-e21c-16f22c870dfb",
        "colab": {
          "base_uri": "https://localhost:8080/"
        }
      },
      "source": [
        "precision_at_k(recommended_list, bought_list, k=3)"
      ],
      "execution_count": null,
      "outputs": [
        {
          "output_type": "execute_result",
          "data": {
            "text/plain": [
              "0.3333333333333333"
            ]
          },
          "metadata": {},
          "execution_count": 13
        }
      ]
    },
    {
      "cell_type": "code",
      "source": [
        "money_precision_at_k(recommended_list, bought_list, prices_recommended, k=5)"
      ],
      "metadata": {
        "colab": {
          "base_uri": "https://localhost:8080/"
        },
        "id": "nso05wug7BqX",
        "outputId": "f77766ec-56ad-41fd-a13d-21222cf21fb1"
      },
      "execution_count": null,
      "outputs": [
        {
          "output_type": "execute_result",
          "data": {
            "text/plain": [
              "0.6984126984126984"
            ]
          },
          "metadata": {},
          "execution_count": 14
        }
      ]
    },
    {
      "cell_type": "markdown",
      "metadata": {
        "id": "NfVd3dnCo1iN"
      },
      "source": [
        "### 3. Recall\n",
        "\n",
        "*Recall* - доля рекомендованных товаров среди релевантных = Какой % купленных товаров был среди рекомендованных\n",
        "\n",
        "- Обычно используется для моделей пре-фильтрации товаров (убрать те товары, которые точно не будем рекомендовать)\n",
        "\n",
        "---\n",
        "\n",
        "Recall= (# of recommended items that are relevant) / (# of relevant items)  \n",
        "\n",
        "Recall@k = (# of recommended items @k that are relevant) / (# of relevant items)\n",
        "\n",
        "Money Recall@k = (revenue of recommended items @k that are relevant) / (revenue of relevant items)  \n",
        "\n",
        "    \n",
        "  \n",
        "**Note:** в recall@k число k обычно достаточно большое (50-200), больше чем покупок у среднестатистического юзера"
      ]
    },
    {
      "cell_type": "code",
      "source": [
        "prices_bought=[100, 30, 30, 20]"
      ],
      "metadata": {
        "id": "9Yb4uiuFD1Mm"
      },
      "execution_count": null,
      "outputs": []
    },
    {
      "cell_type": "code",
      "metadata": {
        "id": "g2sl_HTfo1iS"
      },
      "source": [
        "def recall(recommended_list, bought_list):\n",
        "    \n",
        "    bought_list = np.array(bought_list)\n",
        "    recommended_list = np.array(recommended_list)\n",
        "    \n",
        "    flags = np.isin(bought_list, recommended_list)\n",
        "    \n",
        "    recall = flags.sum() / len(bought_list)\n",
        "    \n",
        "    return recall\n",
        "\n",
        "\n",
        "def recall_at_k(recommended_list, bought_list, k=5):\n",
        "    \n",
        "    # your_code\n",
        "\n",
        "    bought_list = np.array(bought_list)\n",
        "    recommended_list = np.array(recommended_list)[:k]\n",
        "  \n",
        "    flags = np.isin(bought_list, recommended_list)\n",
        "    recall_at_k =  flags.sum() / len(bought_list)\n",
        "    \n",
        "    return recall_at_k\n",
        "\n",
        "\n",
        "def money_recall_at_k(recommended_list, bought_list, prices_recommended, prices_bought, k=5):\n",
        "    \n",
        "    # your_code\n",
        "\n",
        "    bought_list = np.array(bought_list)\n",
        "    prices_bought = np.array(prices_bought)\n",
        "    recommended_list = np.array(recommended_list)[:k]\n",
        "    prices_recommended = np.array(prices_recommended)[:k]\n",
        "\n",
        "    flags = np.isin(recommended_list, bought_list)\n",
        "    money_recall_at_k = np.dot(flags, prices_recommended)/prices_bought.sum()\n",
        "    \n",
        "    return round(money_recall_at_k, 2)"
      ],
      "execution_count": null,
      "outputs": []
    },
    {
      "cell_type": "code",
      "metadata": {
        "id": "kd4I_xqvo1iX",
        "outputId": "8e52053f-394d-45cf-85a4-c1e4f3a97c96",
        "colab": {
          "base_uri": "https://localhost:8080/"
        }
      },
      "source": [
        "recall(recommended_list, bought_list)"
      ],
      "execution_count": null,
      "outputs": [
        {
          "output_type": "execute_result",
          "data": {
            "text/plain": [
              "0.5"
            ]
          },
          "metadata": {},
          "execution_count": 17
        }
      ]
    },
    {
      "cell_type": "code",
      "source": [
        "recall_at_k(recommended_list, bought_list, k=5)"
      ],
      "metadata": {
        "colab": {
          "base_uri": "https://localhost:8080/"
        },
        "id": "dPSpSKSwEmL4",
        "outputId": "83a27b89-0c3f-4e63-9ffc-698dd3115f69"
      },
      "execution_count": null,
      "outputs": [
        {
          "output_type": "execute_result",
          "data": {
            "text/plain": [
              "0.5"
            ]
          },
          "metadata": {},
          "execution_count": 18
        }
      ]
    },
    {
      "cell_type": "code",
      "source": [
        "money_recall_at_k(recommended_list, bought_list, prices_recommended, prices_bought, k=5)"
      ],
      "metadata": {
        "colab": {
          "base_uri": "https://localhost:8080/"
        },
        "id": "BQo_mIHxFJlc",
        "outputId": "e1bc6fde-6d97-460b-d4e0-5041ffe04278"
      },
      "execution_count": null,
      "outputs": [
        {
          "output_type": "execute_result",
          "data": {
            "text/plain": [
              "2.44"
            ]
          },
          "metadata": {},
          "execution_count": 19
        }
      ]
    },
    {
      "cell_type": "code",
      "source": [
        "money_recall_at_k(recommended_list, bought_list, prices_recommended, prices_bought, k=3)"
      ],
      "metadata": {
        "colab": {
          "base_uri": "https://localhost:8080/"
        },
        "id": "zwg2AXyhFbTe",
        "outputId": "ee438a8c-27ad-48e4-ca17-983c44590cad"
      },
      "execution_count": null,
      "outputs": [
        {
          "output_type": "execute_result",
          "data": {
            "text/plain": [
              "2.22"
            ]
          },
          "metadata": {},
          "execution_count": 20
        }
      ]
    },
    {
      "cell_type": "markdown",
      "metadata": {
        "id": "A-9Go3EOo1ib"
      },
      "source": [
        "---"
      ]
    },
    {
      "cell_type": "markdown",
      "metadata": {
        "id": "p06Ri8-go1ic"
      },
      "source": [
        "# Метрики ранжирования"
      ]
    },
    {
      "cell_type": "markdown",
      "metadata": {
        "id": "Rnd4DCp5o1id"
      },
      "source": [
        "Если важен порядок рекомендаций. Подробнее можно почитать [здесь](https://habr.com/ru/company/econtenta/blog/303458/). Формулы в статье могут несколько отличаться от формул в лекции "
      ]
    },
    {
      "cell_type": "markdown",
      "metadata": {
        "id": "F95YT0wwo1id"
      },
      "source": [
        "## AP@k\n",
        "AP@k - average precision at k\n",
        "\n",
        "$$AP@k = \\frac{1}{r} \\sum{[recommended_{relevant_i}] * precision@k}$$\n",
        "\n",
        "- r - кол-во релевантный среди рекомендованных\n",
        "- Суммируем по всем релевантным товарам\n",
        "- Зависит от порядка реокмендаций"
      ]
    },
    {
      "cell_type": "code",
      "metadata": {
        "id": "HfAfQgGRo1ie"
      },
      "source": [
        "def ap_k(recommended_list, bought_list, k=5):\n",
        "    \n",
        "    bought_list = np.array(bought_list)\n",
        "    recommended_list = np.array(recommended_list)\n",
        "    \n",
        "    flags = np.isin(recommended_list, bought_list)\n",
        "    \n",
        "    if sum(flags) == 0:\n",
        "        return 0\n",
        "    \n",
        "    sum_ = 0\n",
        "    for i in range(1, k+1):\n",
        "        \n",
        "        if flags[i] == True:\n",
        "            p_k = precision_at_k(recommended_list, bought_list, k=i)\n",
        "            sum_ += p_k\n",
        "            \n",
        "    result = sum_ / sum(flags)\n",
        "    \n",
        "    return result"
      ],
      "execution_count": null,
      "outputs": []
    },
    {
      "cell_type": "code",
      "metadata": {
        "id": "iBa1KbKio1il",
        "outputId": "f70c29de-07da-4592-d788-873593965ae1",
        "colab": {
          "base_uri": "https://localhost:8080/"
        }
      },
      "source": [
        "ap_k(recommended_list, bought_list, k=5)"
      ],
      "execution_count": null,
      "outputs": [
        {
          "output_type": "execute_result",
          "data": {
            "text/plain": [
              "0.16666666666666666"
            ]
          },
          "metadata": {},
          "execution_count": 22
        }
      ]
    },
    {
      "cell_type": "markdown",
      "metadata": {
        "id": "GyKVp_A_o1ip"
      },
      "source": [
        "### MAP@k\n",
        "\n",
        "MAP@k (Mean Average Precision@k)  \n",
        "Среднее AP@k по всем юзерам\n",
        "- Показывает средневзвешенную точность рекомендаций\n",
        "\n",
        "$$MAP@k = \\frac{1}{|U|} \\sum_u{AP_k}$$\n",
        "  \n",
        "|U| - кол-во юзеров"
      ]
    },
    {
      "cell_type": "code",
      "source": [
        "def ap_k(recommended_list, bought_list, k=5):\n",
        "    \n",
        "    bought_list = np.array(bought_list)\n",
        "    recommended_list = np.array(recommended_list[:k])\n",
        "    \n",
        "    relevant_indexes = np.nonzero(np.isin(recommended_list, bought_list))[0]\n",
        "    if len(relevant_indexes) == 0:\n",
        "        return 0\n",
        "    \n",
        "    amount_relevant = len(relevant_indexes)\n",
        "            \n",
        "    sum_ = sum([precision_at_k(recommended_list, bought_list, k=index_relevant+1) for index_relevant in relevant_indexes])\n",
        "    ap_k = sum_/amount_relevant\n",
        "    return ap_k"
      ],
      "metadata": {
        "id": "7On0-Fxfyp96"
      },
      "execution_count": null,
      "outputs": []
    },
    {
      "cell_type": "code",
      "metadata": {
        "id": "heZq-3_Vo1iq"
      },
      "source": [
        "def map_k(recommended_list, bought_list, k=5):\n",
        "    \n",
        "    # your_code\n",
        "\n",
        "    amount_user = len(bought_list)\n",
        "    list_ap_k = [ap_k(recommended_list[i], bought_list[i], k) for i in np.arange(amount_user)]\n",
        "    \n",
        "    sum_ap_k = sum(list_ap_k)\n",
        "    map_k = sum_ap_k/amount_user\n",
        "    return map_k"
      ],
      "execution_count": null,
      "outputs": []
    },
    {
      "cell_type": "code",
      "source": [
        "#list for 3 users\n",
        "recommended_list_3_users = [[143, 156, 1134, 991, 27, 1543, 3345, 533, 11, 43],\n",
        "                            [143, 12, 398, 873, 11, 176, 666, 450, 43, 1882],\n",
        "                            [143, 665, 76, 9001, 566, 23, 45, 111, 78, 1290]]\n",
        "\n",
        "bought_list_3_users = [[521, 32, 143, 991], #user1\n",
        "                      [143, 11, 844], #user2\n",
        "                      [33, 176, 27, 1101]] #user3"
      ],
      "metadata": {
        "id": "60iR_VdY0VX8"
      },
      "execution_count": null,
      "outputs": []
    },
    {
      "cell_type": "code",
      "source": [
        "map_k(recommended_list_3_users, bought_list_3_users, 5)"
      ],
      "metadata": {
        "colab": {
          "base_uri": "https://localhost:8080/"
        },
        "id": "CiLM5_6V29WM",
        "outputId": "5500ffe6-f4a5-4d9a-9757-f2539d6dabc2"
      },
      "execution_count": null,
      "outputs": [
        {
          "output_type": "execute_result",
          "data": {
            "text/plain": [
              "0.09722222222222221"
            ]
          },
          "metadata": {},
          "execution_count": 26
        }
      ]
    },
    {
      "cell_type": "markdown",
      "metadata": {
        "id": "Ziy893rxo1iw"
      },
      "source": [
        "### AUC@k\n",
        "AUC для первых k наблюдений  \n",
        "- Можно посчитать как sklern.metrics.roc_auc_score для топ-k предсказаний\n",
        "- Показывает долю верно отранжированных товаров"
      ]
    },
    {
      "cell_type": "markdown",
      "metadata": {
        "id": "-aRUBub7o1ix"
      },
      "source": [
        "### NDCG@k\n",
        "Normalized discounted cumulative gain\n",
        "\n",
        "$$DCG = \\frac{1}{|r|} \\sum_u{\\frac{[bought fact]}{discount(i)}}$$  \n",
        "\n",
        "$discount(i) = 1$ if $i <= 2$,   \n",
        "$discount(i) = log_2(i)$ if $i > 2$\n",
        "\n",
        "\n",
        "(!) Считаем для первых k рекоммендаций   \n",
        "(!) - существуют вариации с другими $discount(i)$  \n",
        "i - ранк рекомендованного товара  \n",
        "|r| - кол-во рекомендованных товаров \n",
        "\n",
        "$$NDCG = \\frac{DCG}{ideal DCG}$$\n"
      ]
    },
    {
      "cell_type": "code",
      "metadata": {
        "id": "njQIUE-xo1iy"
      },
      "source": [
        "recommended_list = [143, 156, 1134, 991, 27, 1543, 3345, 533, 11, 43] #id товаров\n",
        "bought_list = [521, 32, 143, 991]"
      ],
      "execution_count": null,
      "outputs": []
    },
    {
      "cell_type": "markdown",
      "metadata": {
        "id": "zHpCD4lKo1i1"
      },
      "source": [
        "$DCG@5 = \\frac{1}{5}*(1 / 1 + 0 / 2 + 0 / log(3) + 1 / log(4) + 0 / log(5))$  \n",
        "$ideal DCG@5 = \\frac{1}{5}*(1 / 1 + 1 / 2 + 1 / log(3) + 1 / log(4) + 1 / log(5))$  \n",
        "\n",
        "$NDCG = \\frac{DCG}{ideal DCG}$"
      ]
    },
    {
      "cell_type": "code",
      "source": [
        "import math\n",
        "\n",
        "def ndcg_at_k(recommended_list, bought_list, k=5):\n",
        "    rec = recommended_list\n",
        "    b = bought_list\n",
        "    \n",
        "    recommended_list = np.array(recommended_list[:k])\n",
        "    bought_list = np.array(bought_list)\n",
        "    \n",
        "    flags = np.isin(recommended_list, bought_list)\n",
        "    rank_list = []\n",
        "    for i in np.arange(len(recommended_list)):\n",
        "        if i < 2:\n",
        "            rank_list.append(i+1)\n",
        "        else:\n",
        "            rank_list.append(math.log2(i+1))\n",
        "    if len(recommended_list) == 0:\n",
        "        return 0\n",
        "    dcg = sum(np.divide(flags, rank_list)) / len(recommended_list)\n",
        "\n",
        "    i_dcg = sum(np.divide(1, rank_list)) / len(recommended_list)\n",
        "    ndcg_at_k = dcg/i_dcg\n",
        "    return ndcg_at_k"
      ],
      "metadata": {
        "id": "DDKzghy-6aXO"
      },
      "execution_count": null,
      "outputs": []
    },
    {
      "cell_type": "code",
      "source": [
        "recommended_list = [143, 156, 1134, 991, 27, 1543, 3345, 533, 11, 43]\n",
        "prices_recommended = [400, 60, 40, 40 , 90, 10, 1030, 30, 20, 150]\n",
        "bought_list = [521, 32, 143, 991]\n",
        "prices_bought=[100, 30, 30, 20]"
      ],
      "metadata": {
        "id": "krhuVX4I9WPc"
      },
      "execution_count": null,
      "outputs": []
    },
    {
      "cell_type": "code",
      "source": [
        "ndcg_at_k(recommended_list, bought_list, k=5)"
      ],
      "metadata": {
        "colab": {
          "base_uri": "https://localhost:8080/"
        },
        "id": "JMe6xYp--GRK",
        "outputId": "7f66ff14-1207-4b24-9745-96c69dfff100"
      },
      "execution_count": null,
      "outputs": [
        {
          "output_type": "execute_result",
          "data": {
            "text/plain": [
              "0.489938890671454"
            ]
          },
          "metadata": {},
          "execution_count": 34
        }
      ]
    },
    {
      "cell_type": "markdown",
      "metadata": {
        "id": "T7Y-Jtcdo1i6"
      },
      "source": [
        "### MRR@k\n",
        "Mean Reciprocal Rank\n",
        "\n",
        "- Считаем для первых k рекоммендаций\n",
        "- Найти ранк первого релевантного предсказания $k_u$\n",
        "- Посчитать reciprocal rank = $\\frac{1}{k_u}$\n",
        "\n",
        "$$MRR = mean(\\frac{1}{k_u})$$"
      ]
    },
    {
      "cell_type": "code",
      "metadata": {
        "id": "i56NVR0Qo1i6"
      },
      "source": [
        "def reciprocal_rank(recommended_list, bought_list, k=5):\n",
        "    # your_code\n",
        "\n",
        "    recommended_list = np.array(recommended_list)\n",
        "    bought_list = np.array(bought_list)\n",
        "    \n",
        "    amount_user = len(bought_list)\n",
        "    r_r = []\n",
        "    for i in np.arange(amount_user):    \n",
        "        relevant_indexes = np.nonzero(np.isin(recommended_list[i][:k], bought_list[i]))[0]\n",
        "        if len(relevant_indexes) != 0:\n",
        "            r_r.append(1/(relevant_indexes[0]+1))\n",
        "    \n",
        "    if len(r_r) == 0:\n",
        "        return 0\n",
        "    \n",
        "    reciprocal_rank = sum(r_r)/amount_user\n",
        "    \n",
        "    return reciprocal_rank"
      ],
      "execution_count": null,
      "outputs": []
    },
    {
      "cell_type": "code",
      "source": [
        "reciprocal_rank(recommended_list_3_users, bought_list_3_users, k=5)"
      ],
      "metadata": {
        "colab": {
          "base_uri": "https://localhost:8080/"
        },
        "id": "4n19wL1B4TaE",
        "outputId": "d83fc60e-5843-4972-8de8-ef804d458dfd"
      },
      "execution_count": null,
      "outputs": [
        {
          "output_type": "stream",
          "name": "stderr",
          "text": [
            "<ipython-input-28-4bd63edf3237>:5: VisibleDeprecationWarning: Creating an ndarray from ragged nested sequences (which is a list-or-tuple of lists-or-tuples-or ndarrays with different lengths or shapes) is deprecated. If you meant to do this, you must specify 'dtype=object' when creating the ndarray.\n",
            "  bought_list = np.array(bought_list)\n"
          ]
        },
        {
          "output_type": "execute_result",
          "data": {
            "text/plain": [
              "0.6666666666666666"
            ]
          },
          "metadata": {},
          "execution_count": 29
        }
      ]
    },
    {
      "cell_type": "markdown",
      "metadata": {
        "id": "ZM-4TlgWo1i-"
      },
      "source": [
        "\n",
        "\n"
      ]
    },
    {
      "cell_type": "markdown",
      "metadata": {
        "id": "DlPGKta8o1i_"
      },
      "source": [
        "# 3. Связь бизнес-метрик, ML-метрик и функции потерь(loss)"
      ]
    },
    {
      "cell_type": "markdown",
      "metadata": {
        "id": "uOUGeoTco1i_"
      },
      "source": [
        "- **loss** - то, что оптимизирует модель (RMSE - Root Mean Squared Error)\n",
        "- **ML-метрика** - то, как мы измеряем качество на test (money precision@5)\n",
        "- **Бизнес-метрика** - то, что хочет оптимизировать бизнес (выручка)\n",
        "\n",
        "В идеале loss = ML-метрика = бизнес-метрика, но это возмонжо в очень редких случаях\n",
        "\n",
        "Надеемся, что:  \n",
        "    *Оптимизация loss --> рост ML-метрик --> рост бизнес-метрик*"
      ]
    },
    {
      "cell_type": "markdown",
      "metadata": {
        "id": "P9bMXLKro1jA"
      },
      "source": [
        "### Пример: рекомендательная система товаров на сайте  \n",
        "      \n",
        "На сайте есть баннер, на котором мы можем разместить 5 товаров. Надо порекомендовать эти 5 товаров персонально каждому юзеру\n",
        "\n",
        "*Шаг 1: Определим бизнес-метрику*  \n",
        "Бизнес хочет максимизировать выручку --> бизнес-метрика - **Выручка**  \n",
        "\n",
        "*Шаг 2: Разложим ее на составляющие*  \n",
        "Выручка =   \n",
        "       Средний чек * кол-во покупок =   \n",
        "       Средний чек * (число юзеров * конверсия из захода на сайт в заказ) =\n",
        "       Число юзеров * (Средний чек * конверсия из захода на сайт в заказ)\n",
        "       \n",
        "Рекомендательная система влияет только на (Средний чек * конверсия из захода на сайт в заказ).   \n",
        "Хорошим приближением этого является **money precision@5** - ML-метрика\n",
        "\n",
        "*Шаг 3: loss*  \n",
        "Это существенно сложнее. Персонализированные ML-модели не умеют напрямую оптимизировать конверсию. Стандартный loss - **RMSE**. Можно для начала попробовать его. \n",
        "\n",
        "P.S. Если вы хотите приблизить RMSE к money precision@5, то можно посчитать weighted RMSE, где вес каждого наблюдения = стоимость товара.   \n",
        "P.S.S. Про другие виды loss будет рассказано в курсе"
      ]
    }
  ]
}